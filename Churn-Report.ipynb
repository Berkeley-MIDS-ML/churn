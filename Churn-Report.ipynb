{
 "metadata": {
  "name": "",
  "signature": "sha256:55f6ec9ffcc4eda7bb7ab32d88d466bdc20d68b80917e146661fb5daedde0d73"
 },
 "nbformat": 3,
 "nbformat_minor": 0,
 "worksheets": [
  {
   "cells": [
    {
     "cell_type": "markdown",
     "metadata": {},
     "source": [
      "## Week 4 Discussion material\n",
      "\n",
      "Definitely have a look at the sklearn documentation (always start with the module-level documentation):\n",
      "\n",
      " - http://scikit-learn.org/stable/modules/naive_bayes.html\n",
      " - http://scikit-learn.org/stable/modules/tree.html\n",
      " \n",
      "And while it's also in the README, note that this is largely borrowed from our reading:\n",
      "\n",
      " - http://blog.yhathq.com/posts/predicting-customer-churn-with-sklearn.html"
     ]
    },
    {
     "cell_type": "code",
     "collapsed": false,
     "input": [
      "from __future__ import division\n",
      "import pandas as pd\n",
      "import numpy as np\n",
      "\n",
      "from sklearn.preprocessing import StandardScaler\n",
      "from sklearn.cross_validation import train_test_split, KFold\n",
      "from sklearn.cross_validation import KFold\n",
      "\n",
      "# A good example of code you might factor out into a library...\n",
      "from churn_measurements import calibration, calibration_plot\n",
      "\n",
      "# Eric used SVCs and Random Forests, which we haven't used yet \n",
      "# (though you're welcome to try them out early!)\n",
      "# from sklearn.svm import SVC\n",
      "# from sklearn.ensemble import RandomForestClassifier as RF\n",
      "\n",
      "from sklearn.naive_bayes import GaussianNB\n",
      "from sklearn.tree import DecisionTreeClassifier, export_graphviz"
     ],
     "language": "python",
     "metadata": {},
     "outputs": [],
     "prompt_number": 2
    },
    {
     "cell_type": "markdown",
     "metadata": {},
     "source": [
      "## Get our data into shape\n",
      "\n",
      "Note - we're using pandas to read the CSV here because it's super nice to work with. Note, however, that Eric converts the data to plain `numpy.array`s before passing them to scikit-learn. You can also experiment with the sklearn-pandas package."
     ]
    },
    {
     "cell_type": "code",
     "collapsed": false,
     "input": [
      "churn_df = pd.read_csv('data/churn.csv')\n",
      "churn_df.head()"
     ],
     "language": "python",
     "metadata": {},
     "outputs": [
      {
       "html": [
        "<div style=\"max-height:1000px;max-width:1500px;overflow:auto;\">\n",
        "<table border=\"1\" class=\"dataframe\">\n",
        "  <thead>\n",
        "    <tr style=\"text-align: right;\">\n",
        "      <th></th>\n",
        "      <th>State</th>\n",
        "      <th>Account Length</th>\n",
        "      <th>Area Code</th>\n",
        "      <th>Phone</th>\n",
        "      <th>Int'l Plan</th>\n",
        "      <th>VMail Plan</th>\n",
        "      <th>VMail Message</th>\n",
        "      <th>Day Mins</th>\n",
        "      <th>Day Calls</th>\n",
        "      <th>Day Charge</th>\n",
        "      <th>...</th>\n",
        "      <th>Eve Calls</th>\n",
        "      <th>Eve Charge</th>\n",
        "      <th>Night Mins</th>\n",
        "      <th>Night Calls</th>\n",
        "      <th>Night Charge</th>\n",
        "      <th>Intl Mins</th>\n",
        "      <th>Intl Calls</th>\n",
        "      <th>Intl Charge</th>\n",
        "      <th>CustServ Calls</th>\n",
        "      <th>Churn?</th>\n",
        "    </tr>\n",
        "  </thead>\n",
        "  <tbody>\n",
        "    <tr>\n",
        "      <th>0</th>\n",
        "      <td> KS</td>\n",
        "      <td> 128</td>\n",
        "      <td> 415</td>\n",
        "      <td> 382-4657</td>\n",
        "      <td>  no</td>\n",
        "      <td> yes</td>\n",
        "      <td> 25</td>\n",
        "      <td> 265.1</td>\n",
        "      <td> 110</td>\n",
        "      <td> 45.07</td>\n",
        "      <td>...</td>\n",
        "      <td>  99</td>\n",
        "      <td> 16.78</td>\n",
        "      <td> 244.7</td>\n",
        "      <td>  91</td>\n",
        "      <td> 11.01</td>\n",
        "      <td> 10.0</td>\n",
        "      <td> 3</td>\n",
        "      <td> 2.70</td>\n",
        "      <td> 1</td>\n",
        "      <td> False.</td>\n",
        "    </tr>\n",
        "    <tr>\n",
        "      <th>1</th>\n",
        "      <td> OH</td>\n",
        "      <td> 107</td>\n",
        "      <td> 415</td>\n",
        "      <td> 371-7191</td>\n",
        "      <td>  no</td>\n",
        "      <td> yes</td>\n",
        "      <td> 26</td>\n",
        "      <td> 161.6</td>\n",
        "      <td> 123</td>\n",
        "      <td> 27.47</td>\n",
        "      <td>...</td>\n",
        "      <td> 103</td>\n",
        "      <td> 16.62</td>\n",
        "      <td> 254.4</td>\n",
        "      <td> 103</td>\n",
        "      <td> 11.45</td>\n",
        "      <td> 13.7</td>\n",
        "      <td> 3</td>\n",
        "      <td> 3.70</td>\n",
        "      <td> 1</td>\n",
        "      <td> False.</td>\n",
        "    </tr>\n",
        "    <tr>\n",
        "      <th>2</th>\n",
        "      <td> NJ</td>\n",
        "      <td> 137</td>\n",
        "      <td> 415</td>\n",
        "      <td> 358-1921</td>\n",
        "      <td>  no</td>\n",
        "      <td>  no</td>\n",
        "      <td>  0</td>\n",
        "      <td> 243.4</td>\n",
        "      <td> 114</td>\n",
        "      <td> 41.38</td>\n",
        "      <td>...</td>\n",
        "      <td> 110</td>\n",
        "      <td> 10.30</td>\n",
        "      <td> 162.6</td>\n",
        "      <td> 104</td>\n",
        "      <td>  7.32</td>\n",
        "      <td> 12.2</td>\n",
        "      <td> 5</td>\n",
        "      <td> 3.29</td>\n",
        "      <td> 0</td>\n",
        "      <td> False.</td>\n",
        "    </tr>\n",
        "    <tr>\n",
        "      <th>3</th>\n",
        "      <td> OH</td>\n",
        "      <td>  84</td>\n",
        "      <td> 408</td>\n",
        "      <td> 375-9999</td>\n",
        "      <td> yes</td>\n",
        "      <td>  no</td>\n",
        "      <td>  0</td>\n",
        "      <td> 299.4</td>\n",
        "      <td>  71</td>\n",
        "      <td> 50.90</td>\n",
        "      <td>...</td>\n",
        "      <td>  88</td>\n",
        "      <td>  5.26</td>\n",
        "      <td> 196.9</td>\n",
        "      <td>  89</td>\n",
        "      <td>  8.86</td>\n",
        "      <td>  6.6</td>\n",
        "      <td> 7</td>\n",
        "      <td> 1.78</td>\n",
        "      <td> 2</td>\n",
        "      <td> False.</td>\n",
        "    </tr>\n",
        "    <tr>\n",
        "      <th>4</th>\n",
        "      <td> OK</td>\n",
        "      <td>  75</td>\n",
        "      <td> 415</td>\n",
        "      <td> 330-6626</td>\n",
        "      <td> yes</td>\n",
        "      <td>  no</td>\n",
        "      <td>  0</td>\n",
        "      <td> 166.7</td>\n",
        "      <td> 113</td>\n",
        "      <td> 28.34</td>\n",
        "      <td>...</td>\n",
        "      <td> 122</td>\n",
        "      <td> 12.61</td>\n",
        "      <td> 186.9</td>\n",
        "      <td> 121</td>\n",
        "      <td>  8.41</td>\n",
        "      <td> 10.1</td>\n",
        "      <td> 3</td>\n",
        "      <td> 2.73</td>\n",
        "      <td> 3</td>\n",
        "      <td> False.</td>\n",
        "    </tr>\n",
        "  </tbody>\n",
        "</table>\n",
        "<p>5 rows \u00d7 21 columns</p>\n",
        "</div>"
       ],
       "metadata": {},
       "output_type": "pyout",
       "prompt_number": 3,
       "text": [
        "  State  Account Length  Area Code     Phone Int'l Plan VMail Plan  \\\n",
        "0    KS             128        415  382-4657         no        yes   \n",
        "1    OH             107        415  371-7191         no        yes   \n",
        "2    NJ             137        415  358-1921         no         no   \n",
        "3    OH              84        408  375-9999        yes         no   \n",
        "4    OK              75        415  330-6626        yes         no   \n",
        "\n",
        "   VMail Message  Day Mins  Day Calls  Day Charge     ...      Eve Calls  \\\n",
        "0             25     265.1        110       45.07     ...             99   \n",
        "1             26     161.6        123       27.47     ...            103   \n",
        "2              0     243.4        114       41.38     ...            110   \n",
        "3              0     299.4         71       50.90     ...             88   \n",
        "4              0     166.7        113       28.34     ...            122   \n",
        "\n",
        "   Eve Charge  Night Mins  Night Calls  Night Charge  Intl Mins  Intl Calls  \\\n",
        "0       16.78       244.7           91         11.01       10.0           3   \n",
        "1       16.62       254.4          103         11.45       13.7           3   \n",
        "2       10.30       162.6          104          7.32       12.2           5   \n",
        "3        5.26       196.9           89          8.86        6.6           7   \n",
        "4       12.61       186.9          121          8.41       10.1           3   \n",
        "\n",
        "   Intl Charge  CustServ Calls  Churn?  \n",
        "0         2.70               1  False.  \n",
        "1         3.70               1  False.  \n",
        "2         3.29               0  False.  \n",
        "3         1.78               2  False.  \n",
        "4         2.73               3  False.  \n",
        "\n",
        "[5 rows x 21 columns]"
       ]
      }
     ],
     "prompt_number": 3
    },
    {
     "cell_type": "code",
     "collapsed": false,
     "input": [
      "churn_df.describe()"
     ],
     "language": "python",
     "metadata": {},
     "outputs": [
      {
       "html": [
        "<div style=\"max-height:1000px;max-width:1500px;overflow:auto;\">\n",
        "<table border=\"1\" class=\"dataframe\">\n",
        "  <thead>\n",
        "    <tr style=\"text-align: right;\">\n",
        "      <th></th>\n",
        "      <th>Account Length</th>\n",
        "      <th>Area Code</th>\n",
        "      <th>VMail Message</th>\n",
        "      <th>Day Mins</th>\n",
        "      <th>Day Calls</th>\n",
        "      <th>Day Charge</th>\n",
        "      <th>Eve Mins</th>\n",
        "      <th>Eve Calls</th>\n",
        "      <th>Eve Charge</th>\n",
        "      <th>Night Mins</th>\n",
        "      <th>Night Calls</th>\n",
        "      <th>Night Charge</th>\n",
        "      <th>Intl Mins</th>\n",
        "      <th>Intl Calls</th>\n",
        "      <th>Intl Charge</th>\n",
        "      <th>CustServ Calls</th>\n",
        "    </tr>\n",
        "  </thead>\n",
        "  <tbody>\n",
        "    <tr>\n",
        "      <th>count</th>\n",
        "      <td> 3333.000000</td>\n",
        "      <td> 3333.000000</td>\n",
        "      <td> 3333.000000</td>\n",
        "      <td> 3333.000000</td>\n",
        "      <td> 3333.000000</td>\n",
        "      <td> 3333.000000</td>\n",
        "      <td> 3333.000000</td>\n",
        "      <td> 3333.000000</td>\n",
        "      <td> 3333.000000</td>\n",
        "      <td> 3333.000000</td>\n",
        "      <td> 3333.000000</td>\n",
        "      <td> 3333.000000</td>\n",
        "      <td> 3333.000000</td>\n",
        "      <td> 3333.000000</td>\n",
        "      <td> 3333.000000</td>\n",
        "      <td> 3333.000000</td>\n",
        "    </tr>\n",
        "    <tr>\n",
        "      <th>mean</th>\n",
        "      <td>  101.064806</td>\n",
        "      <td>  437.182418</td>\n",
        "      <td>    8.099010</td>\n",
        "      <td>  179.775098</td>\n",
        "      <td>  100.435644</td>\n",
        "      <td>   30.562307</td>\n",
        "      <td>  200.980348</td>\n",
        "      <td>  100.114311</td>\n",
        "      <td>   17.083540</td>\n",
        "      <td>  200.872037</td>\n",
        "      <td>  100.107711</td>\n",
        "      <td>    9.039325</td>\n",
        "      <td>   10.237294</td>\n",
        "      <td>    4.479448</td>\n",
        "      <td>    2.764581</td>\n",
        "      <td>    1.562856</td>\n",
        "    </tr>\n",
        "    <tr>\n",
        "      <th>std</th>\n",
        "      <td>   39.822106</td>\n",
        "      <td>   42.371290</td>\n",
        "      <td>   13.688365</td>\n",
        "      <td>   54.467389</td>\n",
        "      <td>   20.069084</td>\n",
        "      <td>    9.259435</td>\n",
        "      <td>   50.713844</td>\n",
        "      <td>   19.922625</td>\n",
        "      <td>    4.310668</td>\n",
        "      <td>   50.573847</td>\n",
        "      <td>   19.568609</td>\n",
        "      <td>    2.275873</td>\n",
        "      <td>    2.791840</td>\n",
        "      <td>    2.461214</td>\n",
        "      <td>    0.753773</td>\n",
        "      <td>    1.315491</td>\n",
        "    </tr>\n",
        "    <tr>\n",
        "      <th>min</th>\n",
        "      <td>    1.000000</td>\n",
        "      <td>  408.000000</td>\n",
        "      <td>    0.000000</td>\n",
        "      <td>    0.000000</td>\n",
        "      <td>    0.000000</td>\n",
        "      <td>    0.000000</td>\n",
        "      <td>    0.000000</td>\n",
        "      <td>    0.000000</td>\n",
        "      <td>    0.000000</td>\n",
        "      <td>   23.200000</td>\n",
        "      <td>   33.000000</td>\n",
        "      <td>    1.040000</td>\n",
        "      <td>    0.000000</td>\n",
        "      <td>    0.000000</td>\n",
        "      <td>    0.000000</td>\n",
        "      <td>    0.000000</td>\n",
        "    </tr>\n",
        "    <tr>\n",
        "      <th>25%</th>\n",
        "      <td>   74.000000</td>\n",
        "      <td>  408.000000</td>\n",
        "      <td>    0.000000</td>\n",
        "      <td>  143.700000</td>\n",
        "      <td>   87.000000</td>\n",
        "      <td>   24.430000</td>\n",
        "      <td>  166.600000</td>\n",
        "      <td>   87.000000</td>\n",
        "      <td>   14.160000</td>\n",
        "      <td>  167.000000</td>\n",
        "      <td>   87.000000</td>\n",
        "      <td>    7.520000</td>\n",
        "      <td>    8.500000</td>\n",
        "      <td>    3.000000</td>\n",
        "      <td>    2.300000</td>\n",
        "      <td>    1.000000</td>\n",
        "    </tr>\n",
        "    <tr>\n",
        "      <th>50%</th>\n",
        "      <td>  101.000000</td>\n",
        "      <td>  415.000000</td>\n",
        "      <td>    0.000000</td>\n",
        "      <td>  179.400000</td>\n",
        "      <td>  101.000000</td>\n",
        "      <td>   30.500000</td>\n",
        "      <td>  201.400000</td>\n",
        "      <td>  100.000000</td>\n",
        "      <td>   17.120000</td>\n",
        "      <td>  201.200000</td>\n",
        "      <td>  100.000000</td>\n",
        "      <td>    9.050000</td>\n",
        "      <td>   10.300000</td>\n",
        "      <td>    4.000000</td>\n",
        "      <td>    2.780000</td>\n",
        "      <td>    1.000000</td>\n",
        "    </tr>\n",
        "    <tr>\n",
        "      <th>75%</th>\n",
        "      <td>  127.000000</td>\n",
        "      <td>  510.000000</td>\n",
        "      <td>   20.000000</td>\n",
        "      <td>  216.400000</td>\n",
        "      <td>  114.000000</td>\n",
        "      <td>   36.790000</td>\n",
        "      <td>  235.300000</td>\n",
        "      <td>  114.000000</td>\n",
        "      <td>   20.000000</td>\n",
        "      <td>  235.300000</td>\n",
        "      <td>  113.000000</td>\n",
        "      <td>   10.590000</td>\n",
        "      <td>   12.100000</td>\n",
        "      <td>    6.000000</td>\n",
        "      <td>    3.270000</td>\n",
        "      <td>    2.000000</td>\n",
        "    </tr>\n",
        "    <tr>\n",
        "      <th>max</th>\n",
        "      <td>  243.000000</td>\n",
        "      <td>  510.000000</td>\n",
        "      <td>   51.000000</td>\n",
        "      <td>  350.800000</td>\n",
        "      <td>  165.000000</td>\n",
        "      <td>   59.640000</td>\n",
        "      <td>  363.700000</td>\n",
        "      <td>  170.000000</td>\n",
        "      <td>   30.910000</td>\n",
        "      <td>  395.000000</td>\n",
        "      <td>  175.000000</td>\n",
        "      <td>   17.770000</td>\n",
        "      <td>   20.000000</td>\n",
        "      <td>   20.000000</td>\n",
        "      <td>    5.400000</td>\n",
        "      <td>    9.000000</td>\n",
        "    </tr>\n",
        "  </tbody>\n",
        "</table>\n",
        "</div>"
       ],
       "metadata": {},
       "output_type": "pyout",
       "prompt_number": 4,
       "text": [
        "       Account Length    Area Code  VMail Message     Day Mins    Day Calls  \\\n",
        "count     3333.000000  3333.000000    3333.000000  3333.000000  3333.000000   \n",
        "mean       101.064806   437.182418       8.099010   179.775098   100.435644   \n",
        "std         39.822106    42.371290      13.688365    54.467389    20.069084   \n",
        "min          1.000000   408.000000       0.000000     0.000000     0.000000   \n",
        "25%         74.000000   408.000000       0.000000   143.700000    87.000000   \n",
        "50%        101.000000   415.000000       0.000000   179.400000   101.000000   \n",
        "75%        127.000000   510.000000      20.000000   216.400000   114.000000   \n",
        "max        243.000000   510.000000      51.000000   350.800000   165.000000   \n",
        "\n",
        "        Day Charge     Eve Mins    Eve Calls   Eve Charge   Night Mins  \\\n",
        "count  3333.000000  3333.000000  3333.000000  3333.000000  3333.000000   \n",
        "mean     30.562307   200.980348   100.114311    17.083540   200.872037   \n",
        "std       9.259435    50.713844    19.922625     4.310668    50.573847   \n",
        "min       0.000000     0.000000     0.000000     0.000000    23.200000   \n",
        "25%      24.430000   166.600000    87.000000    14.160000   167.000000   \n",
        "50%      30.500000   201.400000   100.000000    17.120000   201.200000   \n",
        "75%      36.790000   235.300000   114.000000    20.000000   235.300000   \n",
        "max      59.640000   363.700000   170.000000    30.910000   395.000000   \n",
        "\n",
        "       Night Calls  Night Charge    Intl Mins   Intl Calls  Intl Charge  \\\n",
        "count  3333.000000   3333.000000  3333.000000  3333.000000  3333.000000   \n",
        "mean    100.107711      9.039325    10.237294     4.479448     2.764581   \n",
        "std      19.568609      2.275873     2.791840     2.461214     0.753773   \n",
        "min      33.000000      1.040000     0.000000     0.000000     0.000000   \n",
        "25%      87.000000      7.520000     8.500000     3.000000     2.300000   \n",
        "50%     100.000000      9.050000    10.300000     4.000000     2.780000   \n",
        "75%     113.000000     10.590000    12.100000     6.000000     3.270000   \n",
        "max     175.000000     17.770000    20.000000    20.000000     5.400000   \n",
        "\n",
        "       CustServ Calls  \n",
        "count     3333.000000  \n",
        "mean         1.562856  \n",
        "std          1.315491  \n",
        "min          0.000000  \n",
        "25%          1.000000  \n",
        "50%          1.000000  \n",
        "75%          2.000000  \n",
        "max          9.000000  "
       ]
      }
     ],
     "prompt_number": 4
    },
    {
     "cell_type": "markdown",
     "metadata": {},
     "source": [
      "So why does Eric use 'True.' below? Let's have a look..."
     ]
    },
    {
     "cell_type": "code",
     "collapsed": false,
     "input": [
      "# `set` is a way to efficiently get unique items in a collection\n",
      "set(churn_df['Churn?'])"
     ],
     "language": "python",
     "metadata": {},
     "outputs": [
      {
       "metadata": {},
       "output_type": "pyout",
       "prompt_number": 5,
       "text": [
        "{'False.', 'True.'}"
       ]
      }
     ],
     "prompt_number": 5
    },
    {
     "cell_type": "markdown",
     "metadata": {},
     "source": [
      "One philosophy would be that we should get our data into proper shape before doing serious analysis. Eric's is that we work with what we get."
     ]
    },
    {
     "cell_type": "code",
     "collapsed": false,
     "input": [
      "# Isolate target data\n",
      "churn_result = churn_df['Churn?']\n",
      "# What does this statement do?\n",
      "y = np.where(churn_result == 'True.',1,0)"
     ],
     "language": "python",
     "metadata": {},
     "outputs": [],
     "prompt_number": 6
    },
    {
     "cell_type": "code",
     "collapsed": false,
     "input": [
      "# We don't need these columns\n",
      "to_drop = ['State','Area Code','Phone','Churn?']\n",
      "churn_feat_space = churn_df.drop(to_drop,axis=1)"
     ],
     "language": "python",
     "metadata": {},
     "outputs": [],
     "prompt_number": 7
    },
    {
     "cell_type": "code",
     "collapsed": false,
     "input": [
      "# 'yes'/'no' has to be converted to boolean values\n",
      "# NumPy converts these from boolean to 1. and 0. later\n",
      "# Note that we can ONLY use this kind of string-based indexing in pandas (not numpy)\n",
      "yes_no_cols = [\"Int'l Plan\",\"VMail Plan\"]\n",
      "churn_feat_space[yes_no_cols] = churn_feat_space[yes_no_cols] == 'yes'\n",
      "\n",
      "# Pull out features for future use - getting closer to a scikit-learn / mldata style set of variables\n",
      "features = churn_feat_space.columns\n",
      "\n",
      "# Thanks pandas! We'll use numpy from here on out.\n",
      "X = churn_feat_space.as_matrix().astype(np.float)"
     ],
     "language": "python",
     "metadata": {},
     "outputs": [],
     "prompt_number": 8
    },
    {
     "cell_type": "markdown",
     "metadata": {},
     "source": [
      "This is important for some algorithms. Is it important for decision trees? GaussianNB?"
     ]
    },
    {
     "cell_type": "code",
     "collapsed": false,
     "input": [
      "scaler = StandardScaler()\n",
      "X = scaler.fit_transform(X)"
     ],
     "language": "python",
     "metadata": {},
     "outputs": [],
     "prompt_number": 9
    },
    {
     "cell_type": "markdown",
     "metadata": {},
     "source": [
      "scikit-learn offers several ways to split up our data. How rigorous is Eric being here?"
     ]
    },
    {
     "cell_type": "code",
     "collapsed": false,
     "input": [
      "train_index,test_index = train_test_split(churn_df.index)\n",
      "\n",
      "# For more serious analysis, it's always a good idea to save out intermediate steps...\n",
      "# test_churn_df = churn_df.ix[test_index]\n",
      "# test_churn_df.to_csv(\"test_churn.csv\")"
     ],
     "language": "python",
     "metadata": {},
     "outputs": [],
     "prompt_number": 10
    },
    {
     "cell_type": "markdown",
     "metadata": {},
     "source": [
      "## Train some classifiers!\n",
      "\n",
      "Below I have the basic default fit for each model. We can do better! (and also check on that scaling issue.)\n",
      "\n",
      "### GaussianNB"
     ]
    },
    {
     "cell_type": "code",
     "collapsed": false,
     "input": [
      "gnb = GaussianNB()\n",
      "gnb.fit(X[train_index],y[train_index])"
     ],
     "language": "python",
     "metadata": {},
     "outputs": [
      {
       "metadata": {},
       "output_type": "pyout",
       "prompt_number": 11,
       "text": [
        "GaussianNB()"
       ]
      }
     ],
     "prompt_number": 11
    },
    {
     "cell_type": "code",
     "collapsed": false,
     "input": [
      "print list(features)"
     ],
     "language": "python",
     "metadata": {},
     "outputs": [
      {
       "output_type": "stream",
       "stream": "stdout",
       "text": [
        "['Account Length', \"Int'l Plan\", 'VMail Plan', 'VMail Message', 'Day Mins', 'Day Calls', 'Day Charge', 'Eve Mins', 'Eve Calls', 'Eve Charge', 'Night Mins', 'Night Calls', 'Night Charge', 'Intl Mins', 'Intl Calls', 'Intl Charge', 'CustServ Calls']\n"
       ]
      }
     ],
     "prompt_number": 15
    },
    {
     "cell_type": "code",
     "collapsed": false,
     "input": [
      "gnb.theta_"
     ],
     "language": "python",
     "metadata": {},
     "outputs": [
      {
       "metadata": {},
       "output_type": "pyout",
       "prompt_number": 16,
       "text": [
        "array([[  2.49350337e-03,  -1.19978617e-01,   3.13923300e-02,\n",
        "          2.36636926e-02,  -1.00782805e-01,   4.85322985e-04,\n",
        "         -1.00779861e-01,  -2.15103529e-02,  -2.30844660e-02,\n",
        "         -2.15115487e-02,  -1.93954887e-02,  -1.37708638e-04,\n",
        "         -1.94078572e-02,  -3.31616051e-02,   2.59740884e-02,\n",
        "         -3.31759875e-02,  -7.96901619e-02],\n",
        "       [  9.42365133e-02,   6.60639198e-01,  -2.45815867e-01,\n",
        "         -2.23237210e-01,   5.44133766e-01,   2.66257743e-03,\n",
        "          5.44145106e-01,   2.44658616e-01,   7.42274967e-02,\n",
        "          2.44622594e-01,   1.13022425e-01,   3.37350406e-02,\n",
        "          1.13054809e-01,   1.57929741e-01,  -1.02676920e-01,\n",
        "          1.58002042e-01,   4.86073577e-01]])"
       ]
      }
     ],
     "prompt_number": 16
    },
    {
     "cell_type": "code",
     "collapsed": false,
     "input": [
      "gnb.sigma_"
     ],
     "language": "python",
     "metadata": {},
     "outputs": [
      {
       "metadata": {},
       "output_type": "pyout",
       "prompt_number": 17,
       "text": [
        "array([[ 0.9984243 ,  0.65865087,  1.03036572,  1.00850319,  0.83956461,\n",
        "         0.95164702,  0.83955619,  0.99704083,  1.01801273,  0.99707389,\n",
        "         1.00437284,  0.97898567,  1.00435389,  1.03384601,  1.0038946 ,\n",
        "         1.03401008,  0.81122655],\n",
        "       [ 0.95479719,  2.36386669,  0.69408075,  0.72364684,  1.58440356,\n",
        "         1.19567591,  1.58441981,  1.03120039,  0.88655257,  1.03113394,\n",
        "         0.85271039,  1.08595185,  0.85271133,  1.01299574,  1.16502835,\n",
        "         1.01315275,  1.90315551]])"
       ]
      }
     ],
     "prompt_number": 17
    },
    {
     "cell_type": "markdown",
     "metadata": {},
     "source": [
      "### DecisionTreeClassifier"
     ]
    },
    {
     "cell_type": "code",
     "collapsed": false,
     "input": [
      "dtc = DecisionTreeClassifier(max_depth=3)"
     ],
     "language": "python",
     "metadata": {},
     "outputs": [],
     "prompt_number": 20
    },
    {
     "cell_type": "code",
     "collapsed": false,
     "input": [
      "dtc.fit(X[train_index], y[train_index])"
     ],
     "language": "python",
     "metadata": {},
     "outputs": [
      {
       "metadata": {},
       "output_type": "pyout",
       "prompt_number": 21,
       "text": [
        "DecisionTreeClassifier(compute_importances=None, criterion='gini',\n",
        "            max_depth=3, max_features=None, max_leaf_nodes=None,\n",
        "            min_density=None, min_samples_leaf=1, min_samples_split=2,\n",
        "            random_state=None, splitter='best')"
       ]
      }
     ],
     "prompt_number": 21
    },
    {
     "cell_type": "markdown",
     "metadata": {},
     "source": [
      "Sadly, this is currently a huge PITA. This is one of the reasons I like BCE (I solved this problem there!)."
     ]
    },
    {
     "cell_type": "code",
     "collapsed": false,
     "input": [
      "export_graphviz(dtc, out_file='tree.dot') "
     ],
     "language": "python",
     "metadata": {},
     "outputs": [],
     "prompt_number": 22
    },
    {
     "cell_type": "markdown",
     "metadata": {},
     "source": [
      "For either of the below conversion paths, you'll need GraphViz installed (and maybe pydot):\n",
      "\n",
      "http://www.graphviz.org/Download..php\n",
      "\n",
      "On a Mac, I like managing such Unix-y dependencies with homebrew. There's a similar system on Windows called Chocolatey, but I haven't gotten that to work properly."
     ]
    },
    {
     "cell_type": "code",
     "collapsed": false,
     "input": [
      "# this calls out to a command you may or may not have installed\n",
      "!dot -Tsvg tree.dot -o tree.svg"
     ],
     "language": "python",
     "metadata": {},
     "outputs": [],
     "prompt_number": 23
    },
    {
     "cell_type": "code",
     "collapsed": false,
     "input": [
      "# another way to do it\n",
      "import pydot\n",
      "graph = pydot.graph_from_dot_data(dot_data.getvalue())\n",
      "graph.write_pdf('decision-tree.pdf')"
     ],
     "language": "python",
     "metadata": {},
     "outputs": []
    },
    {
     "cell_type": "code",
     "collapsed": false,
     "input": [
      "list(features)"
     ],
     "language": "python",
     "metadata": {},
     "outputs": [
      {
       "metadata": {},
       "output_type": "pyout",
       "prompt_number": 25,
       "text": [
        "['Account Length',\n",
        " \"Int'l Plan\",\n",
        " 'VMail Plan',\n",
        " 'VMail Message',\n",
        " 'Day Mins',\n",
        " 'Day Calls',\n",
        " 'Day Charge',\n",
        " 'Eve Mins',\n",
        " 'Eve Calls',\n",
        " 'Eve Charge',\n",
        " 'Night Mins',\n",
        " 'Night Calls',\n",
        " 'Night Charge',\n",
        " 'Intl Mins',\n",
        " 'Intl Calls',\n",
        " 'Intl Charge',\n",
        " 'CustServ Calls']"
       ]
      }
     ],
     "prompt_number": 25
    },
    {
     "cell_type": "code",
     "collapsed": false,
     "input": [
      "# Note that the graph may be quite large, so you need to scroll over to it.\n",
      "from IPython.display import SVG\n",
      "SVG('tree.svg')"
     ],
     "language": "python",
     "metadata": {},
     "outputs": [
      {
       "metadata": {},
       "output_type": "pyout",
       "prompt_number": 24,
       "svg": [
        "<svg height=\"316pt\" viewBox=\"0.00 0.00 1072.00 316.00\" width=\"1072pt\" xmlns=\"http://www.w3.org/2000/svg\" xmlns:xlink=\"http://www.w3.org/1999/xlink\">\n",
        "<g class=\"graph\" id=\"graph0\" transform=\"scale(1 1) rotate(0) translate(4 312)\">\n",
        "<title>Tree</title>\n",
        "<polygon fill=\"white\" points=\"-4,4 -4,-312 1068,-312 1068,4 -4,4\" stroke=\"none\"/>\n",
        "<!-- 0 -->\n",
        "<g class=\"node\" id=\"node1\"><title>0</title>\n",
        "<polygon fill=\"none\" points=\"630.381,-308 483.619,-308 483.619,-258 630.381,-258 630.381,-308\" stroke=\"black\"/>\n",
        "<text font-family=\"Times,serif\" font-size=\"14.00\" text-anchor=\"middle\" x=\"557\" y=\"-292.8\">X[4] &lt;= 1.5383</text>\n",
        "<text font-family=\"Times,serif\" font-size=\"14.00\" text-anchor=\"middle\" x=\"557\" y=\"-278.8\">gini = 0.250016933544</text>\n",
        "<text font-family=\"Times,serif\" font-size=\"14.00\" text-anchor=\"middle\" x=\"557\" y=\"-264.8\">samples = 2499</text>\n",
        "</g>\n",
        "<!-- 1 -->\n",
        "<g class=\"node\" id=\"node2\"><title>1</title>\n",
        "<polygon fill=\"none\" points=\"529.381,-222 382.619,-222 382.619,-172 529.381,-172 529.381,-222\" stroke=\"black\"/>\n",
        "<text font-family=\"Times,serif\" font-size=\"14.00\" text-anchor=\"middle\" x=\"456\" y=\"-206.8\">X[16] &lt;= 1.4728</text>\n",
        "<text font-family=\"Times,serif\" font-size=\"14.00\" text-anchor=\"middle\" x=\"456\" y=\"-192.8\">gini = 0.199013281305</text>\n",
        "<text font-family=\"Times,serif\" font-size=\"14.00\" text-anchor=\"middle\" x=\"456\" y=\"-178.8\">samples = 2329</text>\n",
        "</g>\n",
        "<!-- 0&#45;&gt;1 -->\n",
        "<g class=\"edge\" id=\"edge1\"><title>0-&gt;1</title>\n",
        "<path d=\"M528.057,-257.929C517.069,-248.79 504.405,-238.258 492.788,-228.596\" fill=\"none\" stroke=\"black\"/>\n",
        "<polygon fill=\"black\" points=\"494.873,-225.778 484.947,-222.075 490.397,-231.16 494.873,-225.778\" stroke=\"black\"/>\n",
        "</g>\n",
        "<!-- 8 -->\n",
        "<g class=\"node\" id=\"node9\"><title>8</title>\n",
        "<polygon fill=\"none\" points=\"725.381,-222 592.619,-222 592.619,-172 725.381,-172 725.381,-222\" stroke=\"black\"/>\n",
        "<text font-family=\"Times,serif\" font-size=\"14.00\" text-anchor=\"middle\" x=\"659\" y=\"-206.8\">X[2] &lt;= 0.4993</text>\n",
        "<text font-family=\"Times,serif\" font-size=\"14.00\" text-anchor=\"middle\" x=\"659\" y=\"-192.8\">gini = 0.4723183391</text>\n",
        "<text font-family=\"Times,serif\" font-size=\"14.00\" text-anchor=\"middle\" x=\"659\" y=\"-178.8\">samples = 170</text>\n",
        "</g>\n",
        "<!-- 0&#45;&gt;8 -->\n",
        "<g class=\"edge\" id=\"edge8\"><title>0-&gt;8</title>\n",
        "<path d=\"M586.229,-257.929C597.326,-248.79 610.115,-238.258 621.847,-228.596\" fill=\"none\" stroke=\"black\"/>\n",
        "<polygon fill=\"black\" points=\"624.272,-231.133 629.767,-222.075 619.822,-225.73 624.272,-231.133\" stroke=\"black\"/>\n",
        "</g>\n",
        "<!-- 2 -->\n",
        "<g class=\"node\" id=\"node3\"><title>2</title>\n",
        "<polygon fill=\"none\" points=\"291.381,-136 144.619,-136 144.619,-86 291.381,-86 291.381,-136\" stroke=\"black\"/>\n",
        "<text font-family=\"Times,serif\" font-size=\"14.00\" text-anchor=\"middle\" x=\"218\" y=\"-120.8\">X[1] &lt;= 1.3626</text>\n",
        "<text font-family=\"Times,serif\" font-size=\"14.00\" text-anchor=\"middle\" x=\"218\" y=\"-106.8\">gini = 0.145657465924</text>\n",
        "<text font-family=\"Times,serif\" font-size=\"14.00\" text-anchor=\"middle\" x=\"218\" y=\"-92.8\">samples = 2137</text>\n",
        "</g>\n",
        "<!-- 1&#45;&gt;2 -->\n",
        "<g class=\"edge\" id=\"edge2\"><title>1-&gt;2</title>\n",
        "<path d=\"M387.799,-171.929C359.043,-161.78 325.416,-149.911 295.708,-139.426\" fill=\"none\" stroke=\"black\"/>\n",
        "<polygon fill=\"black\" points=\"296.806,-136.102 286.211,-136.075 294.476,-142.703 296.806,-136.102\" stroke=\"black\"/>\n",
        "</g>\n",
        "<!-- 5 -->\n",
        "<g class=\"node\" id=\"node6\"><title>5</title>\n",
        "<polygon fill=\"none\" points=\"529.381,-136 382.619,-136 382.619,-86 529.381,-86 529.381,-136\" stroke=\"black\"/>\n",
        "<text font-family=\"Times,serif\" font-size=\"14.00\" text-anchor=\"middle\" x=\"456\" y=\"-120.8\">X[6] &lt;= -0.0996</text>\n",
        "<text font-family=\"Times,serif\" font-size=\"14.00\" text-anchor=\"middle\" x=\"456\" y=\"-106.8\">gini = 0.499131944444</text>\n",
        "<text font-family=\"Times,serif\" font-size=\"14.00\" text-anchor=\"middle\" x=\"456\" y=\"-92.8\">samples = 192</text>\n",
        "</g>\n",
        "<!-- 1&#45;&gt;5 -->\n",
        "<g class=\"edge\" id=\"edge5\"><title>1-&gt;5</title>\n",
        "<path d=\"M456,-171.704C456,-163.781 456,-154.829 456,-146.314\" fill=\"none\" stroke=\"black\"/>\n",
        "<polygon fill=\"black\" points=\"459.5,-146.242 456,-136.242 452.5,-146.242 459.5,-146.242\" stroke=\"black\"/>\n",
        "</g>\n",
        "<!-- 3 -->\n",
        "<g class=\"node\" id=\"node4\"><title>3</title>\n",
        "<polygon fill=\"none\" points=\"136.278,-50 -0.277767,-50 -0.277767,-0 136.278,-0 136.278,-50\" stroke=\"black\"/>\n",
        "<text font-family=\"Times,serif\" font-size=\"14.00\" text-anchor=\"middle\" x=\"68\" y=\"-34.8\">gini = 0.0910</text>\n",
        "<text font-family=\"Times,serif\" font-size=\"14.00\" text-anchor=\"middle\" x=\"68\" y=\"-20.8\">samples = 1947</text>\n",
        "<text font-family=\"Times,serif\" font-size=\"14.00\" text-anchor=\"middle\" x=\"68\" y=\"-6.8\">value = [ 1854. \u00a0\u00a0\u00a093.]</text>\n",
        "</g>\n",
        "<!-- 2&#45;&gt;3 -->\n",
        "<g class=\"edge\" id=\"edge3\"><title>2-&gt;3</title>\n",
        "<path d=\"M175.016,-85.929C157.913,-76.3511 138.075,-65.2419 120.159,-55.2091\" fill=\"none\" stroke=\"black\"/>\n",
        "<polygon fill=\"black\" points=\"121.425,-51.9069 110.99,-50.0745 118.005,-58.0144 121.425,-51.9069\" stroke=\"black\"/>\n",
        "</g>\n",
        "<!-- 4 -->\n",
        "<g class=\"node\" id=\"node5\"><title>4</title>\n",
        "<polygon fill=\"none\" points=\"281.018,-50 154.982,-50 154.982,-0 281.018,-0 281.018,-50\" stroke=\"black\"/>\n",
        "<text font-family=\"Times,serif\" font-size=\"14.00\" text-anchor=\"middle\" x=\"218\" y=\"-34.8\">gini = 0.4800</text>\n",
        "<text font-family=\"Times,serif\" font-size=\"14.00\" text-anchor=\"middle\" x=\"218\" y=\"-20.8\">samples = 190</text>\n",
        "<text font-family=\"Times,serif\" font-size=\"14.00\" text-anchor=\"middle\" x=\"218\" y=\"-6.8\">value = [ 114. \u00a0\u00a076.]</text>\n",
        "</g>\n",
        "<!-- 2&#45;&gt;4 -->\n",
        "<g class=\"edge\" id=\"edge4\"><title>2-&gt;4</title>\n",
        "<path d=\"M218,-85.7037C218,-77.7808 218,-68.829 218,-60.3136\" fill=\"none\" stroke=\"black\"/>\n",
        "<polygon fill=\"black\" points=\"221.5,-60.2416 218,-50.2417 214.5,-60.2417 221.5,-60.2416\" stroke=\"black\"/>\n",
        "</g>\n",
        "<!-- 6 -->\n",
        "<g class=\"node\" id=\"node7\"><title>6</title>\n",
        "<polygon fill=\"none\" points=\"415.028,-50 298.972,-50 298.972,-0 415.028,-0 415.028,-50\" stroke=\"black\"/>\n",
        "<text font-family=\"Times,serif\" font-size=\"14.00\" text-anchor=\"middle\" x=\"357\" y=\"-34.8\">gini = 0.3482</text>\n",
        "<text font-family=\"Times,serif\" font-size=\"14.00\" text-anchor=\"middle\" x=\"357\" y=\"-20.8\">samples = 98</text>\n",
        "<text font-family=\"Times,serif\" font-size=\"14.00\" text-anchor=\"middle\" x=\"357\" y=\"-6.8\">value = [ 22. \u00a076.]</text>\n",
        "</g>\n",
        "<!-- 5&#45;&gt;6 -->\n",
        "<g class=\"edge\" id=\"edge6\"><title>5-&gt;6</title>\n",
        "<path d=\"M427.631,-85.929C416.86,-76.7905 404.447,-66.2578 393.06,-56.5963\" fill=\"none\" stroke=\"black\"/>\n",
        "<polygon fill=\"black\" points=\"395.263,-53.8756 385.374,-50.0745 390.734,-59.2131 395.263,-53.8756\" stroke=\"black\"/>\n",
        "</g>\n",
        "<!-- 7 -->\n",
        "<g class=\"node\" id=\"node8\"><title>7</title>\n",
        "<polygon fill=\"none\" points=\"549.028,-50 432.972,-50 432.972,-0 549.028,-0 549.028,-50\" stroke=\"black\"/>\n",
        "<text font-family=\"Times,serif\" font-size=\"14.00\" text-anchor=\"middle\" x=\"491\" y=\"-34.8\">gini = 0.2825</text>\n",
        "<text font-family=\"Times,serif\" font-size=\"14.00\" text-anchor=\"middle\" x=\"491\" y=\"-20.8\">samples = 94</text>\n",
        "<text font-family=\"Times,serif\" font-size=\"14.00\" text-anchor=\"middle\" x=\"491\" y=\"-6.8\">value = [ 78. \u00a016.]</text>\n",
        "</g>\n",
        "<!-- 5&#45;&gt;7 -->\n",
        "<g class=\"edge\" id=\"edge7\"><title>5-&gt;7</title>\n",
        "<path d=\"M466.123,-85.7037C469.534,-77.5196 473.401,-68.2376 477.053,-59.4729\" fill=\"none\" stroke=\"black\"/>\n",
        "<polygon fill=\"black\" points=\"480.284,-60.8186 480.899,-50.2417 473.822,-58.1263 480.284,-60.8186\" stroke=\"black\"/>\n",
        "</g>\n",
        "<!-- 9 -->\n",
        "<g class=\"node\" id=\"node10\"><title>9</title>\n",
        "<polygon fill=\"none\" points=\"732.381,-136 585.619,-136 585.619,-86 732.381,-86 732.381,-136\" stroke=\"black\"/>\n",
        "<text font-family=\"Times,serif\" font-size=\"14.00\" text-anchor=\"middle\" x=\"659\" y=\"-120.8\">X[9] &lt;= -0.3222</text>\n",
        "<text font-family=\"Times,serif\" font-size=\"14.00\" text-anchor=\"middle\" x=\"659\" y=\"-106.8\">gini = 0.355029585799</text>\n",
        "<text font-family=\"Times,serif\" font-size=\"14.00\" text-anchor=\"middle\" x=\"659\" y=\"-92.8\">samples = 130</text>\n",
        "</g>\n",
        "<!-- 8&#45;&gt;9 -->\n",
        "<g class=\"edge\" id=\"edge9\"><title>8-&gt;9</title>\n",
        "<path d=\"M659,-171.704C659,-163.781 659,-154.829 659,-146.314\" fill=\"none\" stroke=\"black\"/>\n",
        "<polygon fill=\"black\" points=\"662.5,-146.242 659,-136.242 655.5,-146.242 662.5,-146.242\" stroke=\"black\"/>\n",
        "</g>\n",
        "<!-- 12 -->\n",
        "<g class=\"node\" id=\"node13\"><title>12</title>\n",
        "<polygon fill=\"none\" points=\"939.296,-136 836.704,-136 836.704,-86 939.296,-86 939.296,-136\" stroke=\"black\"/>\n",
        "<text font-family=\"Times,serif\" font-size=\"14.00\" text-anchor=\"middle\" x=\"888\" y=\"-120.8\">X[1] &lt;= 1.3626</text>\n",
        "<text font-family=\"Times,serif\" font-size=\"14.00\" text-anchor=\"middle\" x=\"888\" y=\"-106.8\">gini = 0.21875</text>\n",
        "<text font-family=\"Times,serif\" font-size=\"14.00\" text-anchor=\"middle\" x=\"888\" y=\"-92.8\">samples = 40</text>\n",
        "</g>\n",
        "<!-- 8&#45;&gt;12 -->\n",
        "<g class=\"edge\" id=\"edge12\"><title>8-&gt;12</title>\n",
        "<path d=\"M724.622,-171.929C756.842,-160.11 795.418,-145.96 826.994,-134.378\" fill=\"none\" stroke=\"black\"/>\n",
        "<polygon fill=\"black\" points=\"828.37,-137.601 836.553,-130.871 825.96,-131.029 828.37,-137.601\" stroke=\"black\"/>\n",
        "</g>\n",
        "<!-- 10 -->\n",
        "<g class=\"node\" id=\"node11\"><title>10</title>\n",
        "<polygon fill=\"none\" points=\"683.028,-50 566.972,-50 566.972,-0 683.028,-0 683.028,-50\" stroke=\"black\"/>\n",
        "<text font-family=\"Times,serif\" font-size=\"14.00\" text-anchor=\"middle\" x=\"625\" y=\"-34.8\">gini = 0.4835</text>\n",
        "<text font-family=\"Times,serif\" font-size=\"14.00\" text-anchor=\"middle\" x=\"625\" y=\"-20.8\">samples = 44</text>\n",
        "<text font-family=\"Times,serif\" font-size=\"14.00\" text-anchor=\"middle\" x=\"625\" y=\"-6.8\">value = [ 26. \u00a018.]</text>\n",
        "</g>\n",
        "<!-- 9&#45;&gt;10 -->\n",
        "<g class=\"edge\" id=\"edge10\"><title>9-&gt;10</title>\n",
        "<path d=\"M649.166,-85.7037C645.888,-77.6066 642.176,-68.435 638.662,-59.7528\" fill=\"none\" stroke=\"black\"/>\n",
        "<polygon fill=\"black\" points=\"641.808,-58.198 634.812,-50.2417 635.32,-60.8243 641.808,-58.198\" stroke=\"black\"/>\n",
        "</g>\n",
        "<!-- 11 -->\n",
        "<g class=\"node\" id=\"node12\"><title>11</title>\n",
        "<polygon fill=\"none\" points=\"812.904,-50 701.096,-50 701.096,-0 812.904,-0 812.904,-50\" stroke=\"black\"/>\n",
        "<text font-family=\"Times,serif\" font-size=\"14.00\" text-anchor=\"middle\" x=\"757\" y=\"-34.8\">gini = 0.0887</text>\n",
        "<text font-family=\"Times,serif\" font-size=\"14.00\" text-anchor=\"middle\" x=\"757\" y=\"-20.8\">samples = 86</text>\n",
        "<text font-family=\"Times,serif\" font-size=\"14.00\" text-anchor=\"middle\" x=\"757\" y=\"-6.8\">value = [ \u00a04. \u00a082.]</text>\n",
        "</g>\n",
        "<!-- 9&#45;&gt;11 -->\n",
        "<g class=\"edge\" id=\"edge11\"><title>9-&gt;11</title>\n",
        "<path d=\"M687.083,-85.929C697.744,-76.7905 710.033,-66.2578 721.304,-56.5963\" fill=\"none\" stroke=\"black\"/>\n",
        "<polygon fill=\"black\" points=\"723.598,-59.2399 728.913,-50.0745 719.043,-53.9251 723.598,-59.2399\" stroke=\"black\"/>\n",
        "</g>\n",
        "<!-- 13 -->\n",
        "<g class=\"node\" id=\"node14\"><title>13</title>\n",
        "<polygon fill=\"none\" points=\"943.904,-50 832.096,-50 832.096,-0 943.904,-0 943.904,-50\" stroke=\"black\"/>\n",
        "<text font-family=\"Times,serif\" font-size=\"14.00\" text-anchor=\"middle\" x=\"888\" y=\"-34.8\">gini = 0.0588</text>\n",
        "<text font-family=\"Times,serif\" font-size=\"14.00\" text-anchor=\"middle\" x=\"888\" y=\"-20.8\">samples = 33</text>\n",
        "<text font-family=\"Times,serif\" font-size=\"14.00\" text-anchor=\"middle\" x=\"888\" y=\"-6.8\">value = [ 32. \u00a0\u00a01.]</text>\n",
        "</g>\n",
        "<!-- 12&#45;&gt;13 -->\n",
        "<g class=\"edge\" id=\"edge13\"><title>12-&gt;13</title>\n",
        "<path d=\"M888,-85.7037C888,-77.7808 888,-68.829 888,-60.3136\" fill=\"none\" stroke=\"black\"/>\n",
        "<polygon fill=\"black\" points=\"891.5,-60.2416 888,-50.2417 884.5,-60.2417 891.5,-60.2416\" stroke=\"black\"/>\n",
        "</g>\n",
        "<!-- 14 -->\n",
        "<g class=\"node\" id=\"node15\"><title>14</title>\n",
        "<polygon fill=\"none\" points=\"1064.03,-50 961.972,-50 961.972,-0 1064.03,-0 1064.03,-50\" stroke=\"black\"/>\n",
        "<text font-family=\"Times,serif\" font-size=\"14.00\" text-anchor=\"middle\" x=\"1013\" y=\"-34.8\">gini = 0.4898</text>\n",
        "<text font-family=\"Times,serif\" font-size=\"14.00\" text-anchor=\"middle\" x=\"1013\" y=\"-20.8\">samples = 7</text>\n",
        "<text font-family=\"Times,serif\" font-size=\"14.00\" text-anchor=\"middle\" x=\"1013\" y=\"-6.8\">value = [ 3. \u00a04.]</text>\n",
        "</g>\n",
        "<!-- 12&#45;&gt;14 -->\n",
        "<g class=\"edge\" id=\"edge14\"><title>12-&gt;14</title>\n",
        "<path d=\"M923.82,-85.929C937.811,-76.5269 953.998,-65.649 968.711,-55.7624\" fill=\"none\" stroke=\"black\"/>\n",
        "<polygon fill=\"black\" points=\"970.827,-58.5572 977.175,-50.0745 966.923,-52.7472 970.827,-58.5572\" stroke=\"black\"/>\n",
        "</g>\n",
        "</g>\n",
        "</svg>"
       ],
       "text": [
        "<IPython.core.display.SVG at 0x11416a050>"
       ]
      }
     ],
     "prompt_number": 24
    },
    {
     "cell_type": "markdown",
     "metadata": {},
     "source": [
      "So, that's one way to inspect your tree. How else might you do it? And what about inspecting the parameters of that GaussianNB fit?"
     ]
    },
    {
     "cell_type": "markdown",
     "metadata": {},
     "source": [
      "### NEW this week: Logistic Regression"
     ]
    },
    {
     "cell_type": "code",
     "collapsed": false,
     "input": [
      "# Given your experience, you can do this!"
     ],
     "language": "python",
     "metadata": {},
     "outputs": []
    },
    {
     "cell_type": "markdown",
     "metadata": {},
     "source": [
      "## How did they do?\n",
      "\n",
      "First, we'll see that the defaults did pretty well. That's a nice thing about sklearn! But how stable are these scores? (You can run the above cell along with this one to repeat the measurement)"
     ]
    },
    {
     "cell_type": "code",
     "collapsed": false,
     "input": [
      "print 'GassianNB: {:.3}'.format(gnb.score(X[test_index], y[test_index]))\n",
      "print 'Decision Tree: {:.3}'.format(dtc.score(X[test_index], y[test_index]))\n",
      "# XXX What about your logistic?"
     ],
     "language": "python",
     "metadata": {},
     "outputs": []
    },
    {
     "cell_type": "markdown",
     "metadata": {},
     "source": [
      "How else might we evaluate fit? What about a confusion matrix?"
     ]
    },
    {
     "cell_type": "code",
     "collapsed": false,
     "input": [],
     "language": "python",
     "metadata": {},
     "outputs": []
    },
    {
     "cell_type": "code",
     "collapsed": false,
     "input": [
      "# You don't need to use a class here, but this seemed like a good example to introduce you to the idea\n",
      "\n",
      "class CalibrationTest:\n",
      "    def __init__(self, X, y):\n",
      "        # Mutable types need to be initialized in an __init__, \n",
      "        # so changes aren't shared across instances\n",
      "        self.X = X\n",
      "        self.y = y\n",
      "        self.errors = []\n",
      "        self.labels = []\n",
      "    \n",
      "    def run_prob_cv(self, clf_class, **kwargs):\n",
      "        ''' Using KFold cross validation, compute probabilities for each class\n",
      "        \n",
      "        Note that **kwargs means additional arguments get passed along to\n",
      "        the clf_class(**kwargs) call.\n",
      "        '''\n",
      "        kf = KFold(len(self.y), n_folds=5, shuffle=True)\n",
      "        y_prob = np.zeros((len(self.y),2))\n",
      "        for train_index, test_index in kf:\n",
      "            X_train, X_test = self.X[train_index], self.X[test_index]\n",
      "            y_train = self.y[train_index]\n",
      "            clf = clf_class(**kwargs)\n",
      "            clf.fit(X_train,y_train)\n",
      "            # Predict probabilities, not classes\n",
      "            y_prob[test_index] = clf.predict_proba(X_test)\n",
      "        return y_prob\n",
      "    \n",
      "    def add_test(self, label, clf_class, **kwargs):\n",
      "        # Remember, our True / False values have been converted to 1. / 0.\n",
      "        probs = self.run_prob_cv(clf_class, **kwargs)\n",
      "        # This function is defined in an external library file.\n",
      "        # Does it provide you with a reasonable measure of calibration?\n",
      "        \n",
      "\n",
      "        self.errors.append( calibration(probs[:,1],self.y == 1) )\n",
      "        self.labels.append(label)\n",
      "    \n",
      "    def cal_report(self):\n",
      "        return pd.DataFrame({'calibration_error': self.errors,\n",
      "                             'Test': self.labels})\n",
      "\n",
      "calibrations = CalibrationTest(X, y)"
     ],
     "language": "python",
     "metadata": {},
     "outputs": [],
     "prompt_number": 27
    },
    {
     "cell_type": "code",
     "collapsed": false,
     "input": [
      "def f(*args, **kwargs):\n",
      "    print 'args: {}'.format(args)\n",
      "    print 'kwargs: {}'.format(kwargs)"
     ],
     "language": "python",
     "metadata": {},
     "outputs": [],
     "prompt_number": 28
    },
    {
     "cell_type": "code",
     "collapsed": false,
     "input": [
      "def g(**kwargs):\n",
      "    print 'kwargs: {}'.format(kwargs)"
     ],
     "language": "python",
     "metadata": {},
     "outputs": [],
     "prompt_number": 31
    },
    {
     "cell_type": "code",
     "collapsed": false,
     "input": [
      "g(1,2,3)"
     ],
     "language": "python",
     "metadata": {},
     "outputs": [
      {
       "ename": "TypeError",
       "evalue": "g() takes exactly 0 arguments (3 given)",
       "output_type": "pyerr",
       "traceback": [
        "\u001b[0;31m---------------------------------------------------------------------------\u001b[0m\n\u001b[0;31mTypeError\u001b[0m                                 Traceback (most recent call last)",
        "\u001b[0;32m<ipython-input-32-c686b5a0ef51>\u001b[0m in \u001b[0;36m<module>\u001b[0;34m()\u001b[0m\n\u001b[0;32m----> 1\u001b[0;31m \u001b[0mg\u001b[0m\u001b[0;34m(\u001b[0m\u001b[0;36m1\u001b[0m\u001b[0;34m,\u001b[0m\u001b[0;36m2\u001b[0m\u001b[0;34m,\u001b[0m\u001b[0;36m3\u001b[0m\u001b[0;34m)\u001b[0m\u001b[0;34m\u001b[0m\u001b[0m\n\u001b[0m",
        "\u001b[0;31mTypeError\u001b[0m: g() takes exactly 0 arguments (3 given)"
       ]
      }
     ],
     "prompt_number": 32
    },
    {
     "cell_type": "code",
     "collapsed": false,
     "input": [
      "f(1,2,3)"
     ],
     "language": "python",
     "metadata": {},
     "outputs": [
      {
       "output_type": "stream",
       "stream": "stdout",
       "text": [
        "args: (1, 2, 3)\n",
        "kwargs: {}\n"
       ]
      }
     ],
     "prompt_number": 29
    },
    {
     "cell_type": "code",
     "collapsed": false,
     "input": [
      "f(a=1, b=2, c=3)"
     ],
     "language": "python",
     "metadata": {},
     "outputs": [
      {
       "output_type": "stream",
       "stream": "stdout",
       "text": [
        "args: ()\n",
        "kwargs: {'a': 1, 'c': 3, 'b': 2}\n"
       ]
      }
     ],
     "prompt_number": 30
    },
    {
     "cell_type": "code",
     "collapsed": false,
     "input": [
      "calibrations.add_test('Plain GNB', GaussianNB)\n",
      "calibrations.add_test('DecisionTreeClassifier', DecisionTreeClassifier)"
     ],
     "language": "python",
     "metadata": {},
     "outputs": [],
     "prompt_number": 33
    },
    {
     "cell_type": "markdown",
     "metadata": {},
     "source": [
      "Here's an example of how you could do a manual search over a parameter"
     ]
    },
    {
     "cell_type": "code",
     "collapsed": false,
     "input": [
      "for n in range(5,100):\n",
      "    calibratios.add_test('Some label {}'.format(n), probs = run_prob_cv(X,y,SOME_CLASSIFIER,SOME_PARAMETER=n)"
     ],
     "language": "python",
     "metadata": {},
     "outputs": []
    },
    {
     "cell_type": "markdown",
     "metadata": {},
     "source": [
      "Would it be easier to get the same results with GridSeearch?\n",
      "\n",
      "http://scikit-learn.org/stable/modules/grid_search.html"
     ]
    },
    {
     "cell_type": "code",
     "collapsed": false,
     "input": [
      "# Try gridsearchcv here!"
     ],
     "language": "python",
     "metadata": {},
     "outputs": []
    },
    {
     "cell_type": "code",
     "collapsed": false,
     "input": [
      "try:\n",
      "    from ggplot import *\n",
      "    ggplot(calibrations.cal_report(),aes(x='n_trees',y='calibration_error')) + \\\n",
      "            geom_point()\n",
      "except:\n",
      "    print calibrations.cal_report()"
     ],
     "language": "python",
     "metadata": {},
     "outputs": []
    },
    {
     "cell_type": "markdown",
     "metadata": {},
     "source": [
      "So, those are pretty opaque... what if we wanted to produce a graph like Eric had on his blog post, breaking down actual accuracy for different levels of predicted probability?"
     ]
    },
    {
     "cell_type": "code",
     "collapsed": false,
     "input": [
      "probs = calibrations.run_prob_cv(GaussianNB)"
     ],
     "language": "python",
     "metadata": {},
     "outputs": [],
     "prompt_number": 34
    },
    {
     "cell_type": "code",
     "collapsed": false,
     "input": [
      "probs.shape"
     ],
     "language": "python",
     "metadata": {},
     "outputs": [
      {
       "metadata": {},
       "output_type": "pyout",
       "prompt_number": 35,
       "text": [
        "(3333, 2)"
       ]
      }
     ],
     "prompt_number": 35
    },
    {
     "cell_type": "code",
     "collapsed": false,
     "input": [
      "a = np.array([[1,2], [3, 4]])\n",
      "a"
     ],
     "language": "python",
     "metadata": {},
     "outputs": [
      {
       "metadata": {},
       "output_type": "pyout",
       "prompt_number": 49,
       "text": [
        "array([[1, 2],\n",
        "       [3, 4]])"
       ]
      }
     ],
     "prompt_number": 49
    },
    {
     "cell_type": "code",
     "collapsed": false,
     "input": [
      "a.sum(axis=0)"
     ],
     "language": "python",
     "metadata": {},
     "outputs": [
      {
       "metadata": {},
       "output_type": "pyout",
       "prompt_number": 50,
       "text": [
        "array([4, 6])"
       ]
      }
     ],
     "prompt_number": 50
    },
    {
     "cell_type": "code",
     "collapsed": false,
     "input": [
      "a.sum(axis=1).reshape(2,1)"
     ],
     "language": "python",
     "metadata": {},
     "outputs": [
      {
       "metadata": {},
       "output_type": "pyout",
       "prompt_number": 52,
       "text": [
        "array([[3],\n",
        "       [7]])"
       ]
      }
     ],
     "prompt_number": 52
    },
    {
     "cell_type": "code",
     "collapsed": false,
     "input": [
      "probs.sum?"
     ],
     "language": "python",
     "metadata": {},
     "outputs": [],
     "prompt_number": 46
    },
    {
     "cell_type": "code",
     "collapsed": false,
     "input": [
      "probs.sum(axis=1)"
     ],
     "language": "python",
     "metadata": {},
     "outputs": [
      {
       "metadata": {},
       "output_type": "pyout",
       "prompt_number": 36,
       "text": [
        "array([ 1.,  1.,  1., ...,  1.,  1.,  1.])"
       ]
      }
     ],
     "prompt_number": 36
    },
    {
     "cell_type": "code",
     "collapsed": false,
     "input": [
      "(y == 1).shape"
     ],
     "language": "python",
     "metadata": {},
     "outputs": [
      {
       "metadata": {},
       "output_type": "pyout",
       "prompt_number": 37,
       "text": [
        "(3333,)"
       ]
      }
     ],
     "prompt_number": 37
    },
    {
     "cell_type": "code",
     "collapsed": false,
     "input": [
      "probs[:,1].shape"
     ],
     "language": "python",
     "metadata": {},
     "outputs": [
      {
       "metadata": {},
       "output_type": "pyout",
       "prompt_number": 45,
       "text": [
        "(3333,)"
       ]
      }
     ],
     "prompt_number": 45
    },
    {
     "cell_type": "code",
     "collapsed": false,
     "input": [
      "probs1 = probs[:,1]"
     ],
     "language": "python",
     "metadata": {},
     "outputs": [],
     "prompt_number": 43
    },
    {
     "cell_type": "code",
     "collapsed": false,
     "input": [
      "n_bins = 10\n",
      "judgement_bins = np.arange(n_bins + 1) / n_bins\n",
      "judgement_bins"
     ],
     "language": "python",
     "metadata": {},
     "outputs": [
      {
       "metadata": {},
       "output_type": "pyout",
       "prompt_number": 54,
       "text": [
        "array([ 0. ,  0.1,  0.2,  0.3,  0.4,  0.5,  0.6,  0.7,  0.8,  0.9,  1. ])"
       ]
      }
     ],
     "prompt_number": 54
    },
    {
     "cell_type": "code",
     "collapsed": false,
     "input": [
      "# Which bin is each prediction in?\n",
      "bin_num = np.digitize(probs1,judgement_bins)\n",
      "np.unique(bin_num)"
     ],
     "language": "python",
     "metadata": {},
     "outputs": [
      {
       "metadata": {},
       "output_type": "pyout",
       "prompt_number": 57,
       "text": [
        "array([ 1,  2,  3,  4,  5,  6,  7,  8,  9, 10])"
       ]
      }
     ],
     "prompt_number": 57
    },
    {
     "cell_type": "code",
     "collapsed": false,
     "input": [
      "outcome = y == 1\n",
      "outcome.sum()"
     ],
     "language": "python",
     "metadata": {},
     "outputs": [
      {
       "metadata": {},
       "output_type": "pyout",
       "prompt_number": 61,
       "text": [
        "483"
       ]
      }
     ],
     "prompt_number": 61
    },
    {
     "cell_type": "code",
     "collapsed": false,
     "input": [
      "predicted = []\n",
      "true = []\n",
      "\n",
      "for j_bin in np.unique(bin_num):\n",
      "    # Is event in bin\n",
      "    in_bin = bin_num == j_bin\n",
      "    # Predicted probability taken as average of preds in bin\n",
      "    predicted_prob = np.mean(probs1[in_bin])\n",
      "    predicted.append(predicted_prob)\n",
      "    \n",
      "    # How often did events in this bin actually happen?\n",
      "    true_bin_prob = np.mean(outcome[in_bin])\n",
      "    true.append(true_bin_prob)\n",
      "    "
     ],
     "language": "python",
     "metadata": {},
     "outputs": [],
     "prompt_number": 62
    },
    {
     "cell_type": "code",
     "collapsed": false,
     "input": [
      "predicted"
     ],
     "language": "python",
     "metadata": {},
     "outputs": [
      {
       "metadata": {},
       "output_type": "pyout",
       "prompt_number": 63,
       "text": [
        "[0.030693976883843899,\n",
        " 0.14254795814535393,\n",
        " 0.24359428885868903,\n",
        " 0.35383762712654876,\n",
        " 0.45199086337971522,\n",
        " 0.54779950412874567,\n",
        " 0.6445294307427516,\n",
        " 0.75188330312102836,\n",
        " 0.85766903643145664,\n",
        " 0.96951352966367399]"
       ]
      }
     ],
     "prompt_number": 63
    },
    {
     "cell_type": "code",
     "collapsed": false,
     "input": [
      "true"
     ],
     "language": "python",
     "metadata": {},
     "outputs": [
      {
       "metadata": {},
       "output_type": "pyout",
       "prompt_number": 64,
       "text": [
        "[0.036339165545087482,\n",
        " 0.12275449101796407,\n",
        " 0.24087591240875914,\n",
        " 0.43157894736842106,\n",
        " 0.59999999999999998,\n",
        " 0.53846153846153844,\n",
        " 0.48979591836734693,\n",
        " 0.48648648648648651,\n",
        " 0.54794520547945202,\n",
        " 0.53030303030303028]"
       ]
      }
     ],
     "prompt_number": 64
    },
    {
     "cell_type": "code",
     "collapsed": false,
     "input": [
      "%matplotlib inline\n",
      "import matplotlib.pyplot as plt"
     ],
     "language": "python",
     "metadata": {},
     "outputs": [],
     "prompt_number": 65
    },
    {
     "cell_type": "code",
     "collapsed": false,
     "input": [
      "plt.plot(predicted, true)"
     ],
     "language": "python",
     "metadata": {},
     "outputs": [
      {
       "metadata": {},
       "output_type": "pyout",
       "prompt_number": 66,
       "text": [
        "[<matplotlib.lines.Line2D at 0x114821750>]"
       ]
      },
      {
       "metadata": {},
       "output_type": "display_data",
       "png": "[encoded data removed]",
       "text": [
        "<matplotlib.figure.Figure at 0x114ca46d0>"
       ]
      }
     ],
     "prompt_number": 66
    },
    {
     "cell_type": "markdown",
     "metadata": {},
     "source": [
      "## Thanks Eric!"
     ]
    },
    {
     "cell_type": "markdown",
     "metadata": {},
     "source": [
      "Eric works for Yhat - this is how you'd use their system. Depending on your situation at work, this might be a good route for you!\n",
      "\n",
      "**Note however**, this code won't work without installing some libraries and setting up a Yhat account."
     ]
    },
    {
     "cell_type": "code",
     "collapsed": false,
     "input": [
      "import json\n",
      "from yhat import Yhat,YhatModel,preprocess\n",
      "\n",
      "class ChurnModel(YhatModel):\n",
      "    # Type casts incoming data as a dataframe\n",
      "    @preprocess(in_type=pd.DataFrame,out_type=pd.DataFrame)\n",
      "    def execute(self,data):\n",
      "        # Collect customer meta data\n",
      "        response = data[['Area Code','Phone']]\n",
      "        charges = ['Day Charge','Eve Charge','Night Charge','Intl Charge']\n",
      "        response['customer_worth'] = data[charges].sum(axis=1)\n",
      "        # Convert yes no columns to bool\n",
      "        data[yes_no_cols] = data[yes_no_cols] == 'yes'\n",
      "        # Create feature space\n",
      "        X = data[features].as_matrix().astype(float)\n",
      "        X = scaler.transform(X)\n",
      "        # Make prediction\n",
      "        churn_prob = clf.predict_proba(X)\n",
      "        response['churn_prob'] = churn_prob[:,1]\n",
      "        # Calculate expected loss by churn\n",
      "        response['expected_loss'] = response['churn_prob'] * response['customer_worth']\n",
      "        response = response.sort('expected_loss',ascending=False)\n",
      "        # Return response DataFrame\n",
      "        return response\n",
      "\n",
      "yh = Yhat(\n",
      "    \"e[at]yhathq.com\", \n",
      "    \" MY APIKEY \", \n",
      "    \"http://cloud.yhathq.com/\" \n",
      ")\n",
      "\n",
      "print \"Deploying model\"\n",
      "response = yh.deploy(\"PythonChurnModel\",ChurnModel,globals())\n",
      "\n",
      "print json.dumps(response,indent=2)"
     ],
     "language": "python",
     "metadata": {},
     "outputs": []
    }
   ],
   "metadata": {}
  }
 ]
}