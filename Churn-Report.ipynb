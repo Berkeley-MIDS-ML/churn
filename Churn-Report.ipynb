{
 "metadata": {
  "name": "",
  "signature": "sha256:34c59fd03b24959bb1a062a8d97ebedf2d1874cd2f416d004ff8b8de63007567"
 },
 "nbformat": 3,
 "nbformat_minor": 0,
 "worksheets": [
  {
   "cells": [
    {
     "cell_type": "markdown",
     "metadata": {},
     "source": [
      "## Week 4 Discussion material\n",
      "\n",
      "Definitely have a look at the sklearn documentation (always start with the module-level documentation):\n",
      "\n",
      "http://scikit-learn.org/stable/modules/naive_bayes.html\n",
      "http://scikit-learn.org/stable/modules/tree.html"
     ]
    },
    {
     "cell_type": "code",
     "collapsed": false,
     "input": [
      "from __future__ import division\n",
      "import pandas as pd\n",
      "import numpy as np\n",
      "\n",
      "from sklearn.preprocessing import StandardScaler\n",
      "from sklearn.cross_validation import train_test_split, KFold\n",
      "from sklearn.cross_validation import KFold\n",
      "\n",
      "# A good example of code you might factor out into a library...\n",
      "from churn_measurements import calibration\n",
      "\n",
      "# Eric used SVCs and Random Forests, which we haven't used yet \n",
      "# (though you're welcome to try them out early!)\n",
      "# from sklearn.svm import SVC\n",
      "# from sklearn.ensemble import RandomForestClassifier as RF\n",
      "\n",
      "from sklearn.naive_bayes import GaussianNB\n",
      "from sklearn.tree import DecisionTreeClassifier, export_graphviz"
     ],
     "language": "python",
     "metadata": {},
     "outputs": [],
     "prompt_number": 20
    },
    {
     "cell_type": "markdown",
     "metadata": {},
     "source": [
      "Note - we're using pandas to read the CSV here because it's super nice to work with. Note, however, that Eric converts the data to plain `numpy.array`s before passing them to scikit-learn. You can also experiment with the sklearn-pandas package."
     ]
    },
    {
     "cell_type": "code",
     "collapsed": false,
     "input": [
      "churn_df = pd.read_csv('data/churn.csv')\n",
      "churn_df.head()"
     ],
     "language": "python",
     "metadata": {},
     "outputs": [
      {
       "html": [
        "<div style=\"max-height:1000px;max-width:1500px;overflow:auto;\">\n",
        "<table border=\"1\" class=\"dataframe\">\n",
        "  <thead>\n",
        "    <tr style=\"text-align: right;\">\n",
        "      <th></th>\n",
        "      <th>State</th>\n",
        "      <th>Account Length</th>\n",
        "      <th>Area Code</th>\n",
        "      <th>Phone</th>\n",
        "      <th>Int'l Plan</th>\n",
        "      <th>VMail Plan</th>\n",
        "      <th>VMail Message</th>\n",
        "      <th>Day Mins</th>\n",
        "      <th>Day Calls</th>\n",
        "      <th>Day Charge</th>\n",
        "      <th>...</th>\n",
        "      <th>Eve Calls</th>\n",
        "      <th>Eve Charge</th>\n",
        "      <th>Night Mins</th>\n",
        "      <th>Night Calls</th>\n",
        "      <th>Night Charge</th>\n",
        "      <th>Intl Mins</th>\n",
        "      <th>Intl Calls</th>\n",
        "      <th>Intl Charge</th>\n",
        "      <th>CustServ Calls</th>\n",
        "      <th>Churn?</th>\n",
        "    </tr>\n",
        "  </thead>\n",
        "  <tbody>\n",
        "    <tr>\n",
        "      <th>0</th>\n",
        "      <td> KS</td>\n",
        "      <td> 128</td>\n",
        "      <td> 415</td>\n",
        "      <td> 382-4657</td>\n",
        "      <td>  no</td>\n",
        "      <td> yes</td>\n",
        "      <td> 25</td>\n",
        "      <td> 265.1</td>\n",
        "      <td> 110</td>\n",
        "      <td> 45.07</td>\n",
        "      <td>...</td>\n",
        "      <td>  99</td>\n",
        "      <td> 16.78</td>\n",
        "      <td> 244.7</td>\n",
        "      <td>  91</td>\n",
        "      <td> 11.01</td>\n",
        "      <td> 10.0</td>\n",
        "      <td> 3</td>\n",
        "      <td> 2.70</td>\n",
        "      <td> 1</td>\n",
        "      <td> False.</td>\n",
        "    </tr>\n",
        "    <tr>\n",
        "      <th>1</th>\n",
        "      <td> OH</td>\n",
        "      <td> 107</td>\n",
        "      <td> 415</td>\n",
        "      <td> 371-7191</td>\n",
        "      <td>  no</td>\n",
        "      <td> yes</td>\n",
        "      <td> 26</td>\n",
        "      <td> 161.6</td>\n",
        "      <td> 123</td>\n",
        "      <td> 27.47</td>\n",
        "      <td>...</td>\n",
        "      <td> 103</td>\n",
        "      <td> 16.62</td>\n",
        "      <td> 254.4</td>\n",
        "      <td> 103</td>\n",
        "      <td> 11.45</td>\n",
        "      <td> 13.7</td>\n",
        "      <td> 3</td>\n",
        "      <td> 3.70</td>\n",
        "      <td> 1</td>\n",
        "      <td> False.</td>\n",
        "    </tr>\n",
        "    <tr>\n",
        "      <th>2</th>\n",
        "      <td> NJ</td>\n",
        "      <td> 137</td>\n",
        "      <td> 415</td>\n",
        "      <td> 358-1921</td>\n",
        "      <td>  no</td>\n",
        "      <td>  no</td>\n",
        "      <td>  0</td>\n",
        "      <td> 243.4</td>\n",
        "      <td> 114</td>\n",
        "      <td> 41.38</td>\n",
        "      <td>...</td>\n",
        "      <td> 110</td>\n",
        "      <td> 10.30</td>\n",
        "      <td> 162.6</td>\n",
        "      <td> 104</td>\n",
        "      <td>  7.32</td>\n",
        "      <td> 12.2</td>\n",
        "      <td> 5</td>\n",
        "      <td> 3.29</td>\n",
        "      <td> 0</td>\n",
        "      <td> False.</td>\n",
        "    </tr>\n",
        "    <tr>\n",
        "      <th>3</th>\n",
        "      <td> OH</td>\n",
        "      <td>  84</td>\n",
        "      <td> 408</td>\n",
        "      <td> 375-9999</td>\n",
        "      <td> yes</td>\n",
        "      <td>  no</td>\n",
        "      <td>  0</td>\n",
        "      <td> 299.4</td>\n",
        "      <td>  71</td>\n",
        "      <td> 50.90</td>\n",
        "      <td>...</td>\n",
        "      <td>  88</td>\n",
        "      <td>  5.26</td>\n",
        "      <td> 196.9</td>\n",
        "      <td>  89</td>\n",
        "      <td>  8.86</td>\n",
        "      <td>  6.6</td>\n",
        "      <td> 7</td>\n",
        "      <td> 1.78</td>\n",
        "      <td> 2</td>\n",
        "      <td> False.</td>\n",
        "    </tr>\n",
        "    <tr>\n",
        "      <th>4</th>\n",
        "      <td> OK</td>\n",
        "      <td>  75</td>\n",
        "      <td> 415</td>\n",
        "      <td> 330-6626</td>\n",
        "      <td> yes</td>\n",
        "      <td>  no</td>\n",
        "      <td>  0</td>\n",
        "      <td> 166.7</td>\n",
        "      <td> 113</td>\n",
        "      <td> 28.34</td>\n",
        "      <td>...</td>\n",
        "      <td> 122</td>\n",
        "      <td> 12.61</td>\n",
        "      <td> 186.9</td>\n",
        "      <td> 121</td>\n",
        "      <td>  8.41</td>\n",
        "      <td> 10.1</td>\n",
        "      <td> 3</td>\n",
        "      <td> 2.73</td>\n",
        "      <td> 3</td>\n",
        "      <td> False.</td>\n",
        "    </tr>\n",
        "  </tbody>\n",
        "</table>\n",
        "<p>5 rows \u00d7 21 columns</p>\n",
        "</div>"
       ],
       "metadata": {},
       "output_type": "pyout",
       "prompt_number": 2,
       "text": [
        "  State  Account Length  Area Code     Phone Int'l Plan VMail Plan  \\\n",
        "0    KS             128        415  382-4657         no        yes   \n",
        "1    OH             107        415  371-7191         no        yes   \n",
        "2    NJ             137        415  358-1921         no         no   \n",
        "3    OH              84        408  375-9999        yes         no   \n",
        "4    OK              75        415  330-6626        yes         no   \n",
        "\n",
        "   VMail Message  Day Mins  Day Calls  Day Charge     ...      Eve Calls  \\\n",
        "0             25     265.1        110       45.07     ...             99   \n",
        "1             26     161.6        123       27.47     ...            103   \n",
        "2              0     243.4        114       41.38     ...            110   \n",
        "3              0     299.4         71       50.90     ...             88   \n",
        "4              0     166.7        113       28.34     ...            122   \n",
        "\n",
        "   Eve Charge  Night Mins  Night Calls  Night Charge  Intl Mins  Intl Calls  \\\n",
        "0       16.78       244.7           91         11.01       10.0           3   \n",
        "1       16.62       254.4          103         11.45       13.7           3   \n",
        "2       10.30       162.6          104          7.32       12.2           5   \n",
        "3        5.26       196.9           89          8.86        6.6           7   \n",
        "4       12.61       186.9          121          8.41       10.1           3   \n",
        "\n",
        "   Intl Charge  CustServ Calls  Churn?  \n",
        "0         2.70               1  False.  \n",
        "1         3.70               1  False.  \n",
        "2         3.29               0  False.  \n",
        "3         1.78               2  False.  \n",
        "4         2.73               3  False.  \n",
        "\n",
        "[5 rows x 21 columns]"
       ]
      }
     ],
     "prompt_number": 2
    },
    {
     "cell_type": "markdown",
     "metadata": {},
     "source": [
      "So why does Eric use 'True.' below? Let's have a look..."
     ]
    },
    {
     "cell_type": "code",
     "collapsed": false,
     "input": [
      "# `set` is a way to efficiently get unique items in a collection\n",
      "set(churn_df['Churn?'])"
     ],
     "language": "python",
     "metadata": {},
     "outputs": [
      {
       "metadata": {},
       "output_type": "pyout",
       "prompt_number": 3,
       "text": [
        "{'False.', 'True.'}"
       ]
      }
     ],
     "prompt_number": 3
    },
    {
     "cell_type": "markdown",
     "metadata": {},
     "source": [
      "One philosophy would be that we should get our data into proper shape before doing serious analysis. Eric's is that we work with what we get."
     ]
    },
    {
     "cell_type": "code",
     "collapsed": false,
     "input": [
      "# Isolate target data\n",
      "churn_result = churn_df['Churn?']\n",
      "# What does this statement do?\n",
      "y = np.where(churn_result == 'True.',1,0)"
     ],
     "language": "python",
     "metadata": {},
     "outputs": [],
     "prompt_number": 4
    },
    {
     "cell_type": "code",
     "collapsed": false,
     "input": [
      "# We don't need these columns\n",
      "to_drop = ['State','Area Code','Phone','Churn?']\n",
      "churn_feat_space = churn_df.drop(to_drop,axis=1)"
     ],
     "language": "python",
     "metadata": {},
     "outputs": [],
     "prompt_number": 5
    },
    {
     "cell_type": "code",
     "collapsed": false,
     "input": [
      "# 'yes'/'no' has to be converted to boolean values\n",
      "# NumPy converts these from boolean to 1. and 0. later\n",
      "yes_no_cols = [\"Int'l Plan\",\"VMail Plan\"]\n",
      "churn_feat_space[yes_no_cols] = churn_feat_space[yes_no_cols] == 'yes'\n",
      "\n",
      "# Pull out features for future use - getting closer to a scikit-learn / mldata style set of variables\n",
      "features = churn_feat_space.columns\n",
      "\n",
      "# Thanks pandas! We'll use numpy from here on out.\n",
      "X = churn_feat_space.as_matrix().astype(np.float)"
     ],
     "language": "python",
     "metadata": {},
     "outputs": [],
     "prompt_number": 6
    },
    {
     "cell_type": "markdown",
     "metadata": {},
     "source": [
      "This is important for some algorithms. Is it important for decision trees? GaussianNB?"
     ]
    },
    {
     "cell_type": "code",
     "collapsed": false,
     "input": [
      "scaler = StandardScaler()\n",
      "X = scaler.fit_transform(X)"
     ],
     "language": "python",
     "metadata": {},
     "outputs": [],
     "prompt_number": 7
    },
    {
     "cell_type": "markdown",
     "metadata": {},
     "source": [
      "scikit-learn offers several ways to split up our data. How rigorous is Eric being here?"
     ]
    },
    {
     "cell_type": "code",
     "collapsed": false,
     "input": [
      "train_index,test_index = train_test_split(churn_df.index)\n",
      "\n",
      "# For more serious analysis, it's always a good idea to save out intermediate steps...\n",
      "# test_churn_df = churn_df.ix[test_index]\n",
      "# test_churn_df.to_csv(\"test_churn.csv\")"
     ],
     "language": "python",
     "metadata": {},
     "outputs": [],
     "prompt_number": 8
    },
    {
     "cell_type": "markdown",
     "metadata": {},
     "source": [
      "## Train some classifiers!\n",
      "\n",
      "Below I have the basic default fit for each model. We can do better! (and also check on that scaling issue)"
     ]
    },
    {
     "cell_type": "code",
     "collapsed": false,
     "input": [
      "gnb = GaussianNB()\n",
      "gnb.fit(X[train_index],y[train_index])"
     ],
     "language": "python",
     "metadata": {},
     "outputs": [
      {
       "metadata": {},
       "output_type": "pyout",
       "prompt_number": 9,
       "text": [
        "GaussianNB()"
       ]
      }
     ],
     "prompt_number": 9
    },
    {
     "cell_type": "code",
     "collapsed": false,
     "input": [
      "dtc = DecisionTreeClassifier()\n",
      "dtc.fit(X[train_index], y[train_index])"
     ],
     "language": "python",
     "metadata": {},
     "outputs": [
      {
       "metadata": {},
       "output_type": "pyout",
       "prompt_number": 10,
       "text": [
        "DecisionTreeClassifier(compute_importances=None, criterion='gini',\n",
        "            max_depth=None, max_features=None, max_leaf_nodes=None,\n",
        "            min_density=None, min_samples_leaf=1, min_samples_split=2,\n",
        "            random_state=None, splitter='best')"
       ]
      }
     ],
     "prompt_number": 10
    },
    {
     "cell_type": "markdown",
     "metadata": {},
     "source": [
      "Sadly, this is currently a huge PITA. This is one of the reasons I like BCE (I solved this problem there!)."
     ]
    },
    {
     "cell_type": "code",
     "collapsed": false,
     "input": [
      "from sklearn.externals.six import StringIO  \n",
      "import pydot\n",
      "dot_data = StringIO() \n",
      "export_graphviz(dtc, out_file=dot_data) \n",
      "graph = pydot.graph_from_dot_data(dot_data.getvalue())\n",
      "graph.write_pdf('decision-tree.pdf')"
     ],
     "language": "python",
     "metadata": {},
     "outputs": []
    },
    {
     "cell_type": "markdown",
     "metadata": {},
     "source": [
      "## How did they do?\n",
      "\n",
      "First, we'll see that the defaults did pretty well. That's a nice thing about sklearn! But how stable are these scores? (You can run the above cell along with this one to repeat the measurement)"
     ]
    },
    {
     "cell_type": "code",
     "collapsed": false,
     "input": [
      "print 'GassianNB: {:.3}'.format(gnb.score(X[test_index], y[test_index]))\n",
      "print 'Decision Tree: {:.3}'.format(dtc.score(X[test_index], y[test_index]))"
     ],
     "language": "python",
     "metadata": {},
     "outputs": [
      {
       "output_type": "stream",
       "stream": "stdout",
       "text": [
        "GassianNB: 0.868\n",
        "Decision Tree: 0.918\n"
       ]
      }
     ],
     "prompt_number": 12
    },
    {
     "cell_type": "code",
     "collapsed": false,
     "input": [
      "# You don't need to use a class here, but this seemed like a good example to introduce you to the idea\n",
      "\n",
      "class CalibrationTest:\n",
      "    def __init__(self, X, y):\n",
      "        # Mutable types need to be initialized in an __init__, \n",
      "        # so changes aren't shared across instances\n",
      "        self.X = X\n",
      "        self.y = y\n",
      "        self.errors = []\n",
      "        self.labels = []\n",
      "    \n",
      "    def run_prob_cv(self, clf_class, **kwargs):\n",
      "        ''' Using KFold cross validation, compute probabilities for each class\n",
      "        \n",
      "        Note that **kwargs means additional arguments get passed along to\n",
      "        the clf_class(**kwargs) call.\n",
      "        '''\n",
      "        kf = KFold(len(self.y), n_folds=5, shuffle=True)\n",
      "        y_prob = np.zeros((len(self.y),2))\n",
      "        for train_index, test_index in kf:\n",
      "            X_train, X_test = self.X[train_index], self.X[test_index]\n",
      "            y_train = self.y[train_index]\n",
      "            clf = clf_class(**kwargs)\n",
      "            clf.fit(X_train,y_train)\n",
      "            # Predict probabilities, not classes\n",
      "            y_prob[test_index] = clf.predict_proba(X_test)\n",
      "        return y_prob\n",
      "    \n",
      "    def add_test(self, label, clf_class, **kwargs):\n",
      "        # Remember, our True / False values have been converted to 1. / 0.\n",
      "        probs = self.run_prob_cv(clf_class, **kwargs)\n",
      "        # This function is defined in an external library file.\n",
      "        # Does it provide you with a reasonable measure of calibration?\n",
      "        \n",
      "\n",
      "        self.errors.append( calibration(probs[:,1],self.y == 1) )\n",
      "        self.labels.append(label)\n",
      "    \n",
      "    def cal_report(self):\n",
      "        return pd.DataFrame({'calibration_error': self.errors,\n",
      "                             'Test': self.labels})\n",
      "\n",
      "calibrations = CalibrationTest(X, y)"
     ],
     "language": "python",
     "metadata": {},
     "outputs": [],
     "prompt_number": 13
    },
    {
     "cell_type": "code",
     "collapsed": false,
     "input": [
      "calibrations.add_test('Plain GNB', GaussianNB)\n",
      "calibrations.add_test('DecisionTreeClassifier', DecisionTreeClassifier)"
     ],
     "language": "python",
     "metadata": {},
     "outputs": [],
     "prompt_number": 14
    },
    {
     "cell_type": "markdown",
     "metadata": {},
     "source": [
      "Here's an example of how you could do a manual search over a parameter"
     ]
    },
    {
     "cell_type": "code",
     "collapsed": false,
     "input": [
      "for n in range(5,100):\n",
      "    calibratios.add_test('Some label {}'.format(n), probs = run_prob_cv(X,y,SOME_CLASSIFIER,SOME_PARAMETER=n)"
     ],
     "language": "python",
     "metadata": {},
     "outputs": []
    },
    {
     "cell_type": "markdown",
     "metadata": {},
     "source": [
      "Would it be easier to get the same results with GridSeearch?\n",
      "\n",
      "http://scikit-learn.org/stable/modules/grid_search.html"
     ]
    },
    {
     "cell_type": "code",
     "collapsed": false,
     "input": [
      "# Try gridsearchcv here!"
     ],
     "language": "python",
     "metadata": {},
     "outputs": [],
     "prompt_number": 36
    },
    {
     "cell_type": "code",
     "collapsed": false,
     "input": [
      "try:\n",
      "    from ggplot import *\n",
      "    ggplot(calibrations.cal_report(),aes(x='n_trees',y='calibration_error')) + \\\n",
      "            geom_point()\n",
      "except:\n",
      "    print calibrations.cal_report()"
     ],
     "language": "python",
     "metadata": {},
     "outputs": [
      {
       "output_type": "stream",
       "stream": "stdout",
       "text": [
        "                     Test  calibration_error\n",
        "0               Plain GNB           0.019819\n",
        "1  DecisionTreeClassifier           0.017709\n"
       ]
      }
     ],
     "prompt_number": 15
    },
    {
     "cell_type": "markdown",
     "metadata": {},
     "source": [
      "## Thanks Eric!"
     ]
    },
    {
     "cell_type": "markdown",
     "metadata": {},
     "source": [
      "Eric works for Yhat - this is how you'd use their system. Depending on your situation at work, this might be a good route for you!\n",
      "\n",
      "**Note however**, this code won't work without installing some libraries and setting up a Yhat account."
     ]
    },
    {
     "cell_type": "code",
     "collapsed": false,
     "input": [
      "import json\n",
      "from yhat import Yhat,YhatModel,preprocess\n",
      "\n",
      "class ChurnModel(YhatModel):\n",
      "    # Type casts incoming data as a dataframe\n",
      "    @preprocess(in_type=pd.DataFrame,out_type=pd.DataFrame)\n",
      "    def execute(self,data):\n",
      "        # Collect customer meta data\n",
      "        response = data[['Area Code','Phone']]\n",
      "        charges = ['Day Charge','Eve Charge','Night Charge','Intl Charge']\n",
      "        response['customer_worth'] = data[charges].sum(axis=1)\n",
      "        # Convert yes no columns to bool\n",
      "        data[yes_no_cols] = data[yes_no_cols] == 'yes'\n",
      "        # Create feature space\n",
      "        X = data[features].as_matrix().astype(float)\n",
      "        X = scaler.transform(X)\n",
      "        # Make prediction\n",
      "        churn_prob = clf.predict_proba(X)\n",
      "        response['churn_prob'] = churn_prob[:,1]\n",
      "        # Calculate expected loss by churn\n",
      "        response['expected_loss'] = response['churn_prob'] * response['customer_worth']\n",
      "        response = response.sort('expected_loss',ascending=False)\n",
      "        # Return response DataFrame\n",
      "        return response\n",
      "\n",
      "yh = Yhat(\n",
      "    \"e[at]yhathq.com\", \n",
      "    \" MY APIKEY \", \n",
      "    \"http://cloud.yhathq.com/\" \n",
      ")\n",
      "\n",
      "print \"Deploying model\"\n",
      "response = yh.deploy(\"PythonChurnModel\",ChurnModel,globals())\n",
      "\n",
      "print json.dumps(response,indent=2)"
     ],
     "language": "python",
     "metadata": {},
     "outputs": []
    }
   ],
   "metadata": {}
  }
 ]
}